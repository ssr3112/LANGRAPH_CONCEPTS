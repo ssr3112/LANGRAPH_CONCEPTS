{
 "cells": [
  {
   "cell_type": "code",
   "execution_count": 1,
   "id": "e50f692e",
   "metadata": {},
   "outputs": [],
   "source": [
    "from langgraph.graph import StateGraph, START, END\n",
    "from typing import TypedDict\n",
    "from langchain_google_genai import ChatGoogleGenerativeAI\n",
    "from dotenv import load_dotenv\n",
    "from langgraph.checkpoint.memory import InMemorySaver"
   ]
  },
  {
   "cell_type": "code",
   "execution_count": 2,
   "id": "1a61447e",
   "metadata": {},
   "outputs": [],
   "source": [
    "load_dotenv()\n",
    "\n",
    "llm = llm = ChatGoogleGenerativeAI(model=\"models/gemini-2.5-flash\")"
   ]
  },
  {
   "cell_type": "code",
   "execution_count": 3,
   "id": "c7fff570",
   "metadata": {},
   "outputs": [],
   "source": [
    "class JokeState(TypedDict):\n",
    "\n",
    "    topic: str\n",
    "    joke: str\n",
    "    explanation: str"
   ]
  },
  {
   "cell_type": "code",
   "execution_count": 4,
   "id": "51455887",
   "metadata": {},
   "outputs": [],
   "source": [
    "def generate_joke(state: JokeState):\n",
    "\n",
    "    prompt = f'generate a joke on the topic {state[\"topic\"]}'\n",
    "    response = llm.invoke(prompt).content\n",
    "\n",
    "    return {'joke': response}"
   ]
  },
  {
   "cell_type": "code",
   "execution_count": 5,
   "id": "fbc4ac3c",
   "metadata": {},
   "outputs": [],
   "source": [
    "def generate_explanation(state: JokeState):\n",
    "\n",
    "    prompt = f'write an explanation for the joke - {state[\"joke\"]}'\n",
    "    response = llm.invoke(prompt).content\n",
    "\n",
    "    return {'explanation': response}"
   ]
  },
  {
   "cell_type": "code",
   "execution_count": 6,
   "id": "2ab8a0fd",
   "metadata": {},
   "outputs": [],
   "source": [
    "graph = StateGraph(JokeState)\n",
    "\n",
    "graph.add_node('generate_joke', generate_joke)\n",
    "graph.add_node('generate_explanation', generate_explanation)\n",
    "\n",
    "graph.add_edge(START, 'generate_joke')\n",
    "graph.add_edge('generate_joke', 'generate_explanation')\n",
    "graph.add_edge('generate_explanation', END)\n",
    "\n",
    "checkpointer = InMemorySaver()\n",
    "\n",
    "workflow = graph.compile(checkpointer=checkpointer)"
   ]
  },
  {
   "cell_type": "code",
   "execution_count": 7,
   "id": "61dcca5b",
   "metadata": {},
   "outputs": [
    {
     "data": {
      "text/plain": [
       "{'topic': 'pizza',\n",
       " 'joke': 'Why did the pizza dough go to therapy?\\n\\nBecause it had too many *unmet kneads*!',\n",
       " 'explanation': 'This joke is a classic **pun** that plays on the similar sounds of two different phrases:\\n\\n1.  **\"Unmet needs\"**: This is a common term, especially in psychology and therapy. It refers to fundamental desires or requirements (emotional, psychological, physical) that aren\\'t being satisfied, leading to distress, problems, or a feeling of incompleteness. People often go to therapy to address their unmet needs.\\n\\n2.  **\"Unmet kneads\"**: This is the literal part that applies to the pizza dough. What do you do to pizza dough? You **knead** it. \"Kneading\" is the process of working the dough with your hands to develop its gluten and give it the right texture.\\n\\nThe humor comes from:\\n\\n*   **Personification:** It gives the inanimate pizza dough a very human problem (emotional issues requiring therapy).\\n*   **The Pun:** It cleverly swaps \"needs\" for \"kneads\" because they sound almost identical. The idea is that the dough has been subjected to a lot of \"kneading\" (work, stress, perhaps even metaphorical rough handling), which sounds like it has a lot of \"unmet needs\" (problems that need addressing in therapy).\\n\\nSo, the pizza dough went to therapy because it metaphorically had too many problems (or had been \"worked over\" too much) that sounded like \"unmet needs,\" thanks to the pun on \"kneads.\"'}"
      ]
     },
     "execution_count": 7,
     "metadata": {},
     "output_type": "execute_result"
    }
   ],
   "source": [
    "config1 = {\"configurable\": {\"thread_id\": \"1\"}}\n",
    "workflow.invoke({'topic':'pizza'}, config=config1)"
   ]
  },
  {
   "cell_type": "code",
   "execution_count": 8,
   "id": "d86a8467",
   "metadata": {},
   "outputs": [
    {
     "data": {
      "text/plain": [
       "StateSnapshot(values={'topic': 'pizza', 'joke': 'Why did the pizza dough go to therapy?\\n\\nBecause it had too many *unmet kneads*!', 'explanation': 'This joke is a classic **pun** that plays on the similar sounds of two different phrases:\\n\\n1.  **\"Unmet needs\"**: This is a common term, especially in psychology and therapy. It refers to fundamental desires or requirements (emotional, psychological, physical) that aren\\'t being satisfied, leading to distress, problems, or a feeling of incompleteness. People often go to therapy to address their unmet needs.\\n\\n2.  **\"Unmet kneads\"**: This is the literal part that applies to the pizza dough. What do you do to pizza dough? You **knead** it. \"Kneading\" is the process of working the dough with your hands to develop its gluten and give it the right texture.\\n\\nThe humor comes from:\\n\\n*   **Personification:** It gives the inanimate pizza dough a very human problem (emotional issues requiring therapy).\\n*   **The Pun:** It cleverly swaps \"needs\" for \"kneads\" because they sound almost identical. The idea is that the dough has been subjected to a lot of \"kneading\" (work, stress, perhaps even metaphorical rough handling), which sounds like it has a lot of \"unmet needs\" (problems that need addressing in therapy).\\n\\nSo, the pizza dough went to therapy because it metaphorically had too many problems (or had been \"worked over\" too much) that sounded like \"unmet needs,\" thanks to the pun on \"kneads.\"'}, next=(), config={'configurable': {'thread_id': '1', 'checkpoint_ns': '', 'checkpoint_id': '1f0875c5-df67-681c-8002-fbff40ad1414'}}, metadata={'source': 'loop', 'step': 2, 'parents': {}}, created_at='2025-09-01T17:52:03.166006+00:00', parent_config={'configurable': {'thread_id': '1', 'checkpoint_ns': '', 'checkpoint_id': '1f0875c5-948c-6cc6-8001-ff46b0f4b39d'}}, tasks=(), interrupts=())"
      ]
     },
     "execution_count": 8,
     "metadata": {},
     "output_type": "execute_result"
    }
   ],
   "source": [
    "workflow.get_state(config1)"
   ]
  },
  {
   "cell_type": "code",
   "execution_count": 9,
   "id": "6637712d",
   "metadata": {},
   "outputs": [
    {
     "data": {
      "text/plain": [
       "[StateSnapshot(values={'topic': 'pizza', 'joke': 'Why did the pizza dough go to therapy?\\n\\nBecause it had too many *unmet kneads*!', 'explanation': 'This joke is a classic **pun** that plays on the similar sounds of two different phrases:\\n\\n1.  **\"Unmet needs\"**: This is a common term, especially in psychology and therapy. It refers to fundamental desires or requirements (emotional, psychological, physical) that aren\\'t being satisfied, leading to distress, problems, or a feeling of incompleteness. People often go to therapy to address their unmet needs.\\n\\n2.  **\"Unmet kneads\"**: This is the literal part that applies to the pizza dough. What do you do to pizza dough? You **knead** it. \"Kneading\" is the process of working the dough with your hands to develop its gluten and give it the right texture.\\n\\nThe humor comes from:\\n\\n*   **Personification:** It gives the inanimate pizza dough a very human problem (emotional issues requiring therapy).\\n*   **The Pun:** It cleverly swaps \"needs\" for \"kneads\" because they sound almost identical. The idea is that the dough has been subjected to a lot of \"kneading\" (work, stress, perhaps even metaphorical rough handling), which sounds like it has a lot of \"unmet needs\" (problems that need addressing in therapy).\\n\\nSo, the pizza dough went to therapy because it metaphorically had too many problems (or had been \"worked over\" too much) that sounded like \"unmet needs,\" thanks to the pun on \"kneads.\"'}, next=(), config={'configurable': {'thread_id': '1', 'checkpoint_ns': '', 'checkpoint_id': '1f0875c5-df67-681c-8002-fbff40ad1414'}}, metadata={'source': 'loop', 'step': 2, 'parents': {}}, created_at='2025-09-01T17:52:03.166006+00:00', parent_config={'configurable': {'thread_id': '1', 'checkpoint_ns': '', 'checkpoint_id': '1f0875c5-948c-6cc6-8001-ff46b0f4b39d'}}, tasks=(), interrupts=()),\n",
       " StateSnapshot(values={'topic': 'pizza', 'joke': 'Why did the pizza dough go to therapy?\\n\\nBecause it had too many *unmet kneads*!'}, next=('generate_explanation',), config={'configurable': {'thread_id': '1', 'checkpoint_ns': '', 'checkpoint_id': '1f0875c5-948c-6cc6-8001-ff46b0f4b39d'}}, metadata={'source': 'loop', 'step': 1, 'parents': {}}, created_at='2025-09-01T17:51:55.316960+00:00', parent_config={'configurable': {'thread_id': '1', 'checkpoint_ns': '', 'checkpoint_id': '1f0875c5-50f1-625f-8000-b8cd1343a07b'}}, tasks=(PregelTask(id='936b0d7f-6c41-c724-9edb-703c5ecba8c0', name='generate_explanation', path=('__pregel_pull', 'generate_explanation'), error=None, interrupts=(), state=None, result={'explanation': 'This joke is a classic **pun** that plays on the similar sounds of two different phrases:\\n\\n1.  **\"Unmet needs\"**: This is a common term, especially in psychology and therapy. It refers to fundamental desires or requirements (emotional, psychological, physical) that aren\\'t being satisfied, leading to distress, problems, or a feeling of incompleteness. People often go to therapy to address their unmet needs.\\n\\n2.  **\"Unmet kneads\"**: This is the literal part that applies to the pizza dough. What do you do to pizza dough? You **knead** it. \"Kneading\" is the process of working the dough with your hands to develop its gluten and give it the right texture.\\n\\nThe humor comes from:\\n\\n*   **Personification:** It gives the inanimate pizza dough a very human problem (emotional issues requiring therapy).\\n*   **The Pun:** It cleverly swaps \"needs\" for \"kneads\" because they sound almost identical. The idea is that the dough has been subjected to a lot of \"kneading\" (work, stress, perhaps even metaphorical rough handling), which sounds like it has a lot of \"unmet needs\" (problems that need addressing in therapy).\\n\\nSo, the pizza dough went to therapy because it metaphorically had too many problems (or had been \"worked over\" too much) that sounded like \"unmet needs,\" thanks to the pun on \"kneads.\"'}),), interrupts=()),\n",
       " StateSnapshot(values={'topic': 'pizza'}, next=('generate_joke',), config={'configurable': {'thread_id': '1', 'checkpoint_ns': '', 'checkpoint_id': '1f0875c5-50f1-625f-8000-b8cd1343a07b'}}, metadata={'source': 'loop', 'step': 0, 'parents': {}}, created_at='2025-09-01T17:51:48.227747+00:00', parent_config={'configurable': {'thread_id': '1', 'checkpoint_ns': '', 'checkpoint_id': '1f0875c5-50e6-6772-bfff-52cd3d1baa29'}}, tasks=(PregelTask(id='cebf5073-084b-cd5c-02f4-275518c9b2fe', name='generate_joke', path=('__pregel_pull', 'generate_joke'), error=None, interrupts=(), state=None, result={'joke': 'Why did the pizza dough go to therapy?\\n\\nBecause it had too many *unmet kneads*!'}),), interrupts=()),\n",
       " StateSnapshot(values={}, next=('__start__',), config={'configurable': {'thread_id': '1', 'checkpoint_ns': '', 'checkpoint_id': '1f0875c5-50e6-6772-bfff-52cd3d1baa29'}}, metadata={'source': 'input', 'step': -1, 'parents': {}}, created_at='2025-09-01T17:51:48.223371+00:00', parent_config=None, tasks=(PregelTask(id='f0761ce8-db38-5970-1c22-c7a65eb19d1b', name='__start__', path=('__pregel_pull', '__start__'), error=None, interrupts=(), state=None, result={'topic': 'pizza'}),), interrupts=())]"
      ]
     },
     "execution_count": 9,
     "metadata": {},
     "output_type": "execute_result"
    }
   ],
   "source": [
    "list(workflow.get_state_history(config1))"
   ]
  },
  {
   "cell_type": "code",
   "execution_count": 10,
   "id": "e76eec70",
   "metadata": {},
   "outputs": [
    {
     "data": {
      "text/plain": [
       "{'topic': 'pasta',\n",
       " 'joke': 'What do you call fake pasta?\\nAn **impasta**!',\n",
       " 'explanation': 'This is a classic example of a **pun**!\\n\\nThe joke plays on the similarity in sound between two words: **\"impostor\"** and **\"pasta\"**.\\n\\n1.  **Impostor:** An impostor is a person who pretends to be someone else in order to deceive others. Essentially, they are a **fake** or a fraud.\\n2.  **Pasta:** This is the food itself, which the joke is about.\\n\\nThe humor comes from the fact that \"impasta\" sounds almost exactly like \"impostor,\" but with \"pasta\" cleverly replacing the \"stor\" part.\\n\\nSo, if you have \"fake pasta,\" it\\'s not real, authentic pasta – it\\'s an \"impostor\" among pastas. The word \"impasta\" perfectly combines the idea of something being fake (like an impostor) with the food item in question (pasta).\\n\\nIt\\'s a silly, lighthearted play on words!'}"
      ]
     },
     "execution_count": 10,
     "metadata": {},
     "output_type": "execute_result"
    }
   ],
   "source": [
    "config2 = {\"configurable\": {\"thread_id\": \"2\"}}\n",
    "workflow.invoke({'topic':'pasta'}, config=config2)"
   ]
  },
  {
   "cell_type": "code",
   "execution_count": 11,
   "id": "e9064476",
   "metadata": {},
   "outputs": [
    {
     "data": {
      "text/plain": [
       "StateSnapshot(values={'topic': 'pizza', 'joke': 'Why did the pizza dough go to therapy?\\n\\nBecause it had too many *unmet kneads*!', 'explanation': 'This joke is a classic **pun** that plays on the similar sounds of two different phrases:\\n\\n1.  **\"Unmet needs\"**: This is a common term, especially in psychology and therapy. It refers to fundamental desires or requirements (emotional, psychological, physical) that aren\\'t being satisfied, leading to distress, problems, or a feeling of incompleteness. People often go to therapy to address their unmet needs.\\n\\n2.  **\"Unmet kneads\"**: This is the literal part that applies to the pizza dough. What do you do to pizza dough? You **knead** it. \"Kneading\" is the process of working the dough with your hands to develop its gluten and give it the right texture.\\n\\nThe humor comes from:\\n\\n*   **Personification:** It gives the inanimate pizza dough a very human problem (emotional issues requiring therapy).\\n*   **The Pun:** It cleverly swaps \"needs\" for \"kneads\" because they sound almost identical. The idea is that the dough has been subjected to a lot of \"kneading\" (work, stress, perhaps even metaphorical rough handling), which sounds like it has a lot of \"unmet needs\" (problems that need addressing in therapy).\\n\\nSo, the pizza dough went to therapy because it metaphorically had too many problems (or had been \"worked over\" too much) that sounded like \"unmet needs,\" thanks to the pun on \"kneads.\"'}, next=(), config={'configurable': {'thread_id': '1', 'checkpoint_ns': '', 'checkpoint_id': '1f0875c5-df67-681c-8002-fbff40ad1414'}}, metadata={'source': 'loop', 'step': 2, 'parents': {}}, created_at='2025-09-01T17:52:03.166006+00:00', parent_config={'configurable': {'thread_id': '1', 'checkpoint_ns': '', 'checkpoint_id': '1f0875c5-948c-6cc6-8001-ff46b0f4b39d'}}, tasks=(), interrupts=())"
      ]
     },
     "execution_count": 11,
     "metadata": {},
     "output_type": "execute_result"
    }
   ],
   "source": [
    "workflow.get_state(config1)"
   ]
  },
  {
   "cell_type": "code",
   "execution_count": 12,
   "id": "9dcb9c57",
   "metadata": {},
   "outputs": [
    {
     "data": {
      "text/plain": [
       "[StateSnapshot(values={'topic': 'pizza', 'joke': 'Why did the pizza dough go to therapy?\\n\\nBecause it had too many *unmet kneads*!', 'explanation': 'This joke is a classic **pun** that plays on the similar sounds of two different phrases:\\n\\n1.  **\"Unmet needs\"**: This is a common term, especially in psychology and therapy. It refers to fundamental desires or requirements (emotional, psychological, physical) that aren\\'t being satisfied, leading to distress, problems, or a feeling of incompleteness. People often go to therapy to address their unmet needs.\\n\\n2.  **\"Unmet kneads\"**: This is the literal part that applies to the pizza dough. What do you do to pizza dough? You **knead** it. \"Kneading\" is the process of working the dough with your hands to develop its gluten and give it the right texture.\\n\\nThe humor comes from:\\n\\n*   **Personification:** It gives the inanimate pizza dough a very human problem (emotional issues requiring therapy).\\n*   **The Pun:** It cleverly swaps \"needs\" for \"kneads\" because they sound almost identical. The idea is that the dough has been subjected to a lot of \"kneading\" (work, stress, perhaps even metaphorical rough handling), which sounds like it has a lot of \"unmet needs\" (problems that need addressing in therapy).\\n\\nSo, the pizza dough went to therapy because it metaphorically had too many problems (or had been \"worked over\" too much) that sounded like \"unmet needs,\" thanks to the pun on \"kneads.\"'}, next=(), config={'configurable': {'thread_id': '1', 'checkpoint_ns': '', 'checkpoint_id': '1f0875c5-df67-681c-8002-fbff40ad1414'}}, metadata={'source': 'loop', 'step': 2, 'parents': {}}, created_at='2025-09-01T17:52:03.166006+00:00', parent_config={'configurable': {'thread_id': '1', 'checkpoint_ns': '', 'checkpoint_id': '1f0875c5-948c-6cc6-8001-ff46b0f4b39d'}}, tasks=(), interrupts=()),\n",
       " StateSnapshot(values={'topic': 'pizza', 'joke': 'Why did the pizza dough go to therapy?\\n\\nBecause it had too many *unmet kneads*!'}, next=('generate_explanation',), config={'configurable': {'thread_id': '1', 'checkpoint_ns': '', 'checkpoint_id': '1f0875c5-948c-6cc6-8001-ff46b0f4b39d'}}, metadata={'source': 'loop', 'step': 1, 'parents': {}}, created_at='2025-09-01T17:51:55.316960+00:00', parent_config={'configurable': {'thread_id': '1', 'checkpoint_ns': '', 'checkpoint_id': '1f0875c5-50f1-625f-8000-b8cd1343a07b'}}, tasks=(PregelTask(id='936b0d7f-6c41-c724-9edb-703c5ecba8c0', name='generate_explanation', path=('__pregel_pull', 'generate_explanation'), error=None, interrupts=(), state=None, result={'explanation': 'This joke is a classic **pun** that plays on the similar sounds of two different phrases:\\n\\n1.  **\"Unmet needs\"**: This is a common term, especially in psychology and therapy. It refers to fundamental desires or requirements (emotional, psychological, physical) that aren\\'t being satisfied, leading to distress, problems, or a feeling of incompleteness. People often go to therapy to address their unmet needs.\\n\\n2.  **\"Unmet kneads\"**: This is the literal part that applies to the pizza dough. What do you do to pizza dough? You **knead** it. \"Kneading\" is the process of working the dough with your hands to develop its gluten and give it the right texture.\\n\\nThe humor comes from:\\n\\n*   **Personification:** It gives the inanimate pizza dough a very human problem (emotional issues requiring therapy).\\n*   **The Pun:** It cleverly swaps \"needs\" for \"kneads\" because they sound almost identical. The idea is that the dough has been subjected to a lot of \"kneading\" (work, stress, perhaps even metaphorical rough handling), which sounds like it has a lot of \"unmet needs\" (problems that need addressing in therapy).\\n\\nSo, the pizza dough went to therapy because it metaphorically had too many problems (or had been \"worked over\" too much) that sounded like \"unmet needs,\" thanks to the pun on \"kneads.\"'}),), interrupts=()),\n",
       " StateSnapshot(values={'topic': 'pizza'}, next=('generate_joke',), config={'configurable': {'thread_id': '1', 'checkpoint_ns': '', 'checkpoint_id': '1f0875c5-50f1-625f-8000-b8cd1343a07b'}}, metadata={'source': 'loop', 'step': 0, 'parents': {}}, created_at='2025-09-01T17:51:48.227747+00:00', parent_config={'configurable': {'thread_id': '1', 'checkpoint_ns': '', 'checkpoint_id': '1f0875c5-50e6-6772-bfff-52cd3d1baa29'}}, tasks=(PregelTask(id='cebf5073-084b-cd5c-02f4-275518c9b2fe', name='generate_joke', path=('__pregel_pull', 'generate_joke'), error=None, interrupts=(), state=None, result={'joke': 'Why did the pizza dough go to therapy?\\n\\nBecause it had too many *unmet kneads*!'}),), interrupts=()),\n",
       " StateSnapshot(values={}, next=('__start__',), config={'configurable': {'thread_id': '1', 'checkpoint_ns': '', 'checkpoint_id': '1f0875c5-50e6-6772-bfff-52cd3d1baa29'}}, metadata={'source': 'input', 'step': -1, 'parents': {}}, created_at='2025-09-01T17:51:48.223371+00:00', parent_config=None, tasks=(PregelTask(id='f0761ce8-db38-5970-1c22-c7a65eb19d1b', name='__start__', path=('__pregel_pull', '__start__'), error=None, interrupts=(), state=None, result={'topic': 'pizza'}),), interrupts=())]"
      ]
     },
     "execution_count": 12,
     "metadata": {},
     "output_type": "execute_result"
    }
   ],
   "source": [
    "list(workflow.get_state_history(config1))"
   ]
  },
  {
   "cell_type": "markdown",
   "id": "6c4ece46",
   "metadata": {},
   "source": [
    "# Time Travel"
   ]
  },
  {
   "cell_type": "code",
   "execution_count": 13,
   "id": "8096ec22",
   "metadata": {},
   "outputs": [
    {
     "data": {
      "text/plain": [
       "StateSnapshot(values={}, next=(), config={'configurable': {'thread_id': '1', 'checkpoint_id': '1f06cc6e-7232-6cb1-8000-f71609e6cec5'}}, metadata=None, created_at=None, parent_config=None, tasks=(), interrupts=())"
      ]
     },
     "execution_count": 13,
     "metadata": {},
     "output_type": "execute_result"
    }
   ],
   "source": [
    "workflow.get_state({\"configurable\": {\"thread_id\": \"1\", \"checkpoint_id\": \"1f06cc6e-7232-6cb1-8000-f71609e6cec5\"}})"
   ]
  },
  {
   "cell_type": "code",
   "execution_count": null,
   "id": "2e63d12e",
   "metadata": {},
   "outputs": [
    {
     "ename": "AttributeError",
     "evalue": "'set' object has no attribute 'items'",
     "output_type": "error",
     "traceback": [
      "\u001b[31m---------------------------------------------------------------------------\u001b[39m",
      "\u001b[31mAttributeError\u001b[39m                            Traceback (most recent call last)",
      "\u001b[36mCell\u001b[39m\u001b[36m \u001b[39m\u001b[32mIn[16]\u001b[39m\u001b[32m, line 8\u001b[39m\n\u001b[32m      1\u001b[39m \u001b[38;5;28;01mfrom\u001b[39;00m\u001b[38;5;250m \u001b[39m\u001b[34;01mlangchain_core\u001b[39;00m\u001b[34;01m.\u001b[39;00m\u001b[34;01mmessages\u001b[39;00m\u001b[38;5;250m \u001b[39m\u001b[38;5;28;01mimport\u001b[39;00m HumanMessage\n\u001b[32m      3\u001b[39m initial_state = {\n\u001b[32m      4\u001b[39m     \u001b[33m\"\u001b[39m\u001b[33mmessages\u001b[39m\u001b[33m\"\u001b[39m: [HumanMessage(content=\u001b[33m\"\u001b[39m\u001b[33mHello\u001b[39m\u001b[33m\"\u001b[39m)],  \u001b[38;5;66;03m# start with initial message\u001b[39;00m\n\u001b[32m      5\u001b[39m     \u001b[38;5;66;03m# include any other keys your workflow needs, e.g.:\u001b[39;00m\n\u001b[32m      6\u001b[39m     \u001b[38;5;66;03m# \"some_key\": default_value,\u001b[39;00m\n\u001b[32m      7\u001b[39m }\n\u001b[32m----> \u001b[39m\u001b[32m8\u001b[39m \u001b[43mworkflow\u001b[49m\u001b[43m.\u001b[49m\u001b[43minvoke\u001b[49m\u001b[43m(\u001b[49m\u001b[43minitial_state\u001b[49m\u001b[43m,\u001b[49m\u001b[43m \u001b[49m\u001b[43m{\u001b[49m\u001b[33;43m\"\u001b[39;49m\u001b[33;43mconfigurable\u001b[39;49m\u001b[33;43m\"\u001b[39;49m\u001b[43m:\u001b[49m\u001b[43m \u001b[49m\u001b[43m{\u001b[49m\u001b[43m.\u001b[49m\u001b[43m.\u001b[49m\u001b[43m.\u001b[49m\u001b[43m}\u001b[49m\u001b[43m}\u001b[49m\u001b[43m)\u001b[49m\n",
      "\u001b[36mFile \u001b[39m\u001b[32mc:\\Users\\sudhanshu  singh\\OneDrive\\LANGRAPH-CONCEPTS\\myenv\\Lib\\site-packages\\langgraph\\pregel\\main.py:3026\u001b[39m, in \u001b[36mPregel.invoke\u001b[39m\u001b[34m(self, input, config, context, stream_mode, print_mode, output_keys, interrupt_before, interrupt_after, durability, **kwargs)\u001b[39m\n\u001b[32m   3023\u001b[39m chunks: \u001b[38;5;28mlist\u001b[39m[\u001b[38;5;28mdict\u001b[39m[\u001b[38;5;28mstr\u001b[39m, Any] | Any] = []\n\u001b[32m   3024\u001b[39m interrupts: \u001b[38;5;28mlist\u001b[39m[Interrupt] = []\n\u001b[32m-> \u001b[39m\u001b[32m3026\u001b[39m \u001b[43m\u001b[49m\u001b[38;5;28;43;01mfor\u001b[39;49;00m\u001b[43m \u001b[49m\u001b[43mchunk\u001b[49m\u001b[43m \u001b[49m\u001b[38;5;129;43;01min\u001b[39;49;00m\u001b[43m \u001b[49m\u001b[38;5;28;43mself\u001b[39;49m\u001b[43m.\u001b[49m\u001b[43mstream\u001b[49m\u001b[43m(\u001b[49m\n\u001b[32m   3027\u001b[39m \u001b[43m    \u001b[49m\u001b[38;5;28;43minput\u001b[39;49m\u001b[43m,\u001b[49m\n\u001b[32m   3028\u001b[39m \u001b[43m    \u001b[49m\u001b[43mconfig\u001b[49m\u001b[43m,\u001b[49m\n\u001b[32m   3029\u001b[39m \u001b[43m    \u001b[49m\u001b[43mcontext\u001b[49m\u001b[43m=\u001b[49m\u001b[43mcontext\u001b[49m\u001b[43m,\u001b[49m\n\u001b[32m   3030\u001b[39m \u001b[43m    \u001b[49m\u001b[43mstream_mode\u001b[49m\u001b[43m=\u001b[49m\u001b[43m[\u001b[49m\u001b[33;43m\"\u001b[39;49m\u001b[33;43mupdates\u001b[39;49m\u001b[33;43m\"\u001b[39;49m\u001b[43m,\u001b[49m\u001b[43m \u001b[49m\u001b[33;43m\"\u001b[39;49m\u001b[33;43mvalues\u001b[39;49m\u001b[33;43m\"\u001b[39;49m\u001b[43m]\u001b[49m\n\u001b[32m   3031\u001b[39m \u001b[43m    \u001b[49m\u001b[38;5;28;43;01mif\u001b[39;49;00m\u001b[43m \u001b[49m\u001b[43mstream_mode\u001b[49m\u001b[43m \u001b[49m\u001b[43m==\u001b[49m\u001b[43m \u001b[49m\u001b[33;43m\"\u001b[39;49m\u001b[33;43mvalues\u001b[39;49m\u001b[33;43m\"\u001b[39;49m\n\u001b[32m   3032\u001b[39m \u001b[43m    \u001b[49m\u001b[38;5;28;43;01melse\u001b[39;49;00m\u001b[43m \u001b[49m\u001b[43mstream_mode\u001b[49m\u001b[43m,\u001b[49m\n\u001b[32m   3033\u001b[39m \u001b[43m    \u001b[49m\u001b[43mprint_mode\u001b[49m\u001b[43m=\u001b[49m\u001b[43mprint_mode\u001b[49m\u001b[43m,\u001b[49m\n\u001b[32m   3034\u001b[39m \u001b[43m    \u001b[49m\u001b[43moutput_keys\u001b[49m\u001b[43m=\u001b[49m\u001b[43moutput_keys\u001b[49m\u001b[43m,\u001b[49m\n\u001b[32m   3035\u001b[39m \u001b[43m    \u001b[49m\u001b[43minterrupt_before\u001b[49m\u001b[43m=\u001b[49m\u001b[43minterrupt_before\u001b[49m\u001b[43m,\u001b[49m\n\u001b[32m   3036\u001b[39m \u001b[43m    \u001b[49m\u001b[43minterrupt_after\u001b[49m\u001b[43m=\u001b[49m\u001b[43minterrupt_after\u001b[49m\u001b[43m,\u001b[49m\n\u001b[32m   3037\u001b[39m \u001b[43m    \u001b[49m\u001b[43mdurability\u001b[49m\u001b[43m=\u001b[49m\u001b[43mdurability\u001b[49m\u001b[43m,\u001b[49m\n\u001b[32m   3038\u001b[39m \u001b[43m    \u001b[49m\u001b[43m*\u001b[49m\u001b[43m*\u001b[49m\u001b[43mkwargs\u001b[49m\u001b[43m,\u001b[49m\n\u001b[32m   3039\u001b[39m \u001b[43m\u001b[49m\u001b[43m)\u001b[49m\u001b[43m:\u001b[49m\n\u001b[32m   3040\u001b[39m \u001b[43m    \u001b[49m\u001b[38;5;28;43;01mif\u001b[39;49;00m\u001b[43m \u001b[49m\u001b[43mstream_mode\u001b[49m\u001b[43m \u001b[49m\u001b[43m==\u001b[49m\u001b[43m \u001b[49m\u001b[33;43m\"\u001b[39;49m\u001b[33;43mvalues\u001b[39;49m\u001b[33;43m\"\u001b[39;49m\u001b[43m:\u001b[49m\n\u001b[32m   3041\u001b[39m \u001b[43m        \u001b[49m\u001b[38;5;28;43;01mif\u001b[39;49;00m\u001b[43m \u001b[49m\u001b[38;5;28;43mlen\u001b[39;49m\u001b[43m(\u001b[49m\u001b[43mchunk\u001b[49m\u001b[43m)\u001b[49m\u001b[43m \u001b[49m\u001b[43m==\u001b[49m\u001b[43m \u001b[49m\u001b[32;43m2\u001b[39;49m\u001b[43m:\u001b[49m\n",
      "\u001b[36mFile \u001b[39m\u001b[32mc:\\Users\\sudhanshu  singh\\OneDrive\\LANGRAPH-CONCEPTS\\myenv\\Lib\\site-packages\\langgraph\\pregel\\main.py:2499\u001b[39m, in \u001b[36mPregel.stream\u001b[39m\u001b[34m(self, input, config, context, stream_mode, print_mode, output_keys, interrupt_before, interrupt_after, durability, subgraphs, debug, **kwargs)\u001b[39m\n\u001b[32m   2495\u001b[39m     print_mode = [\u001b[33m\"\u001b[39m\u001b[33mupdates\u001b[39m\u001b[33m\"\u001b[39m, \u001b[33m\"\u001b[39m\u001b[33mvalues\u001b[39m\u001b[33m\"\u001b[39m]\n\u001b[32m   2497\u001b[39m stream = SyncQueue()\n\u001b[32m-> \u001b[39m\u001b[32m2499\u001b[39m config = \u001b[43mensure_config\u001b[49m\u001b[43m(\u001b[49m\u001b[38;5;28;43mself\u001b[39;49m\u001b[43m.\u001b[49m\u001b[43mconfig\u001b[49m\u001b[43m,\u001b[49m\u001b[43m \u001b[49m\u001b[43mconfig\u001b[49m\u001b[43m)\u001b[49m\n\u001b[32m   2500\u001b[39m callback_manager = get_callback_manager_for_config(config)\n\u001b[32m   2501\u001b[39m run_manager = callback_manager.on_chain_start(\n\u001b[32m   2502\u001b[39m     \u001b[38;5;28;01mNone\u001b[39;00m,\n\u001b[32m   2503\u001b[39m     \u001b[38;5;28minput\u001b[39m,\n\u001b[32m   2504\u001b[39m     name=config.get(\u001b[33m\"\u001b[39m\u001b[33mrun_name\u001b[39m\u001b[33m\"\u001b[39m, \u001b[38;5;28mself\u001b[39m.get_name()),\n\u001b[32m   2505\u001b[39m     run_id=config.get(\u001b[33m\"\u001b[39m\u001b[33mrun_id\u001b[39m\u001b[33m\"\u001b[39m),\n\u001b[32m   2506\u001b[39m )\n",
      "\u001b[36mFile \u001b[39m\u001b[32mc:\\Users\\sudhanshu  singh\\OneDrive\\LANGRAPH-CONCEPTS\\myenv\\Lib\\site-packages\\langgraph\\_internal\\_config.py:315\u001b[39m, in \u001b[36mensure_config\u001b[39m\u001b[34m(*configs)\u001b[39m\n\u001b[32m    313\u001b[39m         \u001b[38;5;28;01mif\u001b[39;00m _is_not_empty(v) \u001b[38;5;129;01mand\u001b[39;00m k \u001b[38;5;129;01mnot\u001b[39;00m \u001b[38;5;129;01min\u001b[39;00m CONFIG_KEYS:\n\u001b[32m    314\u001b[39m             empty[CONF][k] = v\n\u001b[32m--> \u001b[39m\u001b[32m315\u001b[39m \u001b[38;5;28;01mfor\u001b[39;00m key, value \u001b[38;5;129;01min\u001b[39;00m \u001b[43mempty\u001b[49m\u001b[43m[\u001b[49m\u001b[43mCONF\u001b[49m\u001b[43m]\u001b[49m\u001b[43m.\u001b[49m\u001b[43mitems\u001b[49m():\n\u001b[32m    316\u001b[39m     \u001b[38;5;28;01mif\u001b[39;00m (\n\u001b[32m    317\u001b[39m         \u001b[38;5;129;01mnot\u001b[39;00m key.startswith(\u001b[33m\"\u001b[39m\u001b[33m__\u001b[39m\u001b[33m\"\u001b[39m)\n\u001b[32m    318\u001b[39m         \u001b[38;5;129;01mand\u001b[39;00m \u001b[38;5;28misinstance\u001b[39m(value, (\u001b[38;5;28mstr\u001b[39m, \u001b[38;5;28mint\u001b[39m, \u001b[38;5;28mfloat\u001b[39m, \u001b[38;5;28mbool\u001b[39m))\n\u001b[32m    319\u001b[39m         \u001b[38;5;129;01mand\u001b[39;00m key \u001b[38;5;129;01mnot\u001b[39;00m \u001b[38;5;129;01min\u001b[39;00m empty[\u001b[33m\"\u001b[39m\u001b[33mmetadata\u001b[39m\u001b[33m\"\u001b[39m]\n\u001b[32m    320\u001b[39m     ):\n\u001b[32m    321\u001b[39m         empty[\u001b[33m\"\u001b[39m\u001b[33mmetadata\u001b[39m\u001b[33m\"\u001b[39m][key] = value\n",
      "\u001b[31mAttributeError\u001b[39m: 'set' object has no attribute 'items'"
     ]
    }
   ],
   "source": [
    "\n",
    "\n"
   ]
  },
  {
   "cell_type": "markdown",
   "id": "f0f4ce3a",
   "metadata": {},
   "source": [
    "# Updating State"
   ]
  },
  {
   "cell_type": "code",
   "execution_count": 17,
   "id": "610ccd43",
   "metadata": {},
   "outputs": [
    {
     "data": {
      "text/plain": [
       "{'configurable': {'thread_id': '1',\n",
       "  'checkpoint_ns': '',\n",
       "  'checkpoint_id': '1f0875d3-fb9c-6c8f-8000-2c860095074a'}}"
      ]
     },
     "execution_count": 17,
     "metadata": {},
     "output_type": "execute_result"
    }
   ],
   "source": [
    "workflow.update_state({\"configurable\": {\"thread_id\": \"1\", \"checkpoint_id\": \"1f06cc6e-7232-6cb1-8000-f71609e6cec5\", \"checkpoint_ns\": \"\"}}, {'topic':'samosa'})"
   ]
  },
  {
   "cell_type": "code",
   "execution_count": 18,
   "id": "163f8c49",
   "metadata": {},
   "outputs": [
    {
     "data": {
      "text/plain": [
       "[StateSnapshot(values={'topic': 'samosa'}, next=('generate_joke',), config={'configurable': {'thread_id': '1', 'checkpoint_ns': '', 'checkpoint_id': '1f0875d3-fb9c-6c8f-8000-2c860095074a'}}, metadata={'source': 'update', 'step': 0, 'parents': {}}, created_at='2025-09-01T17:58:21.933479+00:00', parent_config={'configurable': {'thread_id': '1', 'checkpoint_ns': '', 'checkpoint_id': '1f06cc6e-7232-6cb1-8000-f71609e6cec5'}}, tasks=(PregelTask(id='f1fe1eba-7bc0-423b-7a99-402fffa7df06', name='generate_joke', path=('__pregel_pull', 'generate_joke'), error=None, interrupts=(), state=None, result=None),), interrupts=()),\n",
       " StateSnapshot(values={}, next=('generate_joke',), config={'configurable': {'thread_id': '1', 'checkpoint_ns': '', 'checkpoint_id': '1f0875ce-db21-634c-8000-ccdec809df74'}}, metadata={'source': 'loop', 'step': 0, 'parents': {}}, created_at='2025-09-01T17:56:04.309690+00:00', parent_config={'configurable': {'thread_id': '1', 'checkpoint_ns': '', 'checkpoint_id': '1f0875ce-db1c-655a-bfff-488bf86b97b6'}}, tasks=(PregelTask(id='db92af83-9633-b401-3733-9c11ec1ed3b7', name='generate_joke', path=('__pregel_pull', 'generate_joke'), error=\"KeyError('topic')\", interrupts=(), state=None, result=None),), interrupts=()),\n",
       " StateSnapshot(values={}, next=('__start__',), config={'configurable': {'thread_id': '1', 'checkpoint_ns': '', 'checkpoint_id': '1f0875ce-db1c-655a-bfff-488bf86b97b6'}}, metadata={'source': 'input', 'step': -1, 'parents': {}}, created_at='2025-09-01T17:56:04.307695+00:00', parent_config={'configurable': {'thread_id': '1', 'checkpoint_ns': '', 'checkpoint_id': '1f06cc6e-7232-6cb1-8000-f71609e6cec5'}}, tasks=(PregelTask(id='6cfa8d31-65e8-2a4b-837c-e6d001ba86c1', name='__start__', path=('__pregel_pull', '__start__'), error=None, interrupts=(), state=None, result={}),), interrupts=()),\n",
       " StateSnapshot(values={'topic': 'pizza', 'joke': 'Why did the pizza dough go to therapy?\\n\\nBecause it had too many *unmet kneads*!', 'explanation': 'This joke is a classic **pun** that plays on the similar sounds of two different phrases:\\n\\n1.  **\"Unmet needs\"**: This is a common term, especially in psychology and therapy. It refers to fundamental desires or requirements (emotional, psychological, physical) that aren\\'t being satisfied, leading to distress, problems, or a feeling of incompleteness. People often go to therapy to address their unmet needs.\\n\\n2.  **\"Unmet kneads\"**: This is the literal part that applies to the pizza dough. What do you do to pizza dough? You **knead** it. \"Kneading\" is the process of working the dough with your hands to develop its gluten and give it the right texture.\\n\\nThe humor comes from:\\n\\n*   **Personification:** It gives the inanimate pizza dough a very human problem (emotional issues requiring therapy).\\n*   **The Pun:** It cleverly swaps \"needs\" for \"kneads\" because they sound almost identical. The idea is that the dough has been subjected to a lot of \"kneading\" (work, stress, perhaps even metaphorical rough handling), which sounds like it has a lot of \"unmet needs\" (problems that need addressing in therapy).\\n\\nSo, the pizza dough went to therapy because it metaphorically had too many problems (or had been \"worked over\" too much) that sounded like \"unmet needs,\" thanks to the pun on \"kneads.\"'}, next=(), config={'configurable': {'thread_id': '1', 'checkpoint_ns': '', 'checkpoint_id': '1f0875c5-df67-681c-8002-fbff40ad1414'}}, metadata={'source': 'loop', 'step': 2, 'parents': {}}, created_at='2025-09-01T17:52:03.166006+00:00', parent_config={'configurable': {'thread_id': '1', 'checkpoint_ns': '', 'checkpoint_id': '1f0875c5-948c-6cc6-8001-ff46b0f4b39d'}}, tasks=(), interrupts=()),\n",
       " StateSnapshot(values={'topic': 'pizza', 'joke': 'Why did the pizza dough go to therapy?\\n\\nBecause it had too many *unmet kneads*!'}, next=('generate_explanation',), config={'configurable': {'thread_id': '1', 'checkpoint_ns': '', 'checkpoint_id': '1f0875c5-948c-6cc6-8001-ff46b0f4b39d'}}, metadata={'source': 'loop', 'step': 1, 'parents': {}}, created_at='2025-09-01T17:51:55.316960+00:00', parent_config={'configurable': {'thread_id': '1', 'checkpoint_ns': '', 'checkpoint_id': '1f0875c5-50f1-625f-8000-b8cd1343a07b'}}, tasks=(PregelTask(id='936b0d7f-6c41-c724-9edb-703c5ecba8c0', name='generate_explanation', path=('__pregel_pull', 'generate_explanation'), error=None, interrupts=(), state=None, result={'explanation': 'This joke is a classic **pun** that plays on the similar sounds of two different phrases:\\n\\n1.  **\"Unmet needs\"**: This is a common term, especially in psychology and therapy. It refers to fundamental desires or requirements (emotional, psychological, physical) that aren\\'t being satisfied, leading to distress, problems, or a feeling of incompleteness. People often go to therapy to address their unmet needs.\\n\\n2.  **\"Unmet kneads\"**: This is the literal part that applies to the pizza dough. What do you do to pizza dough? You **knead** it. \"Kneading\" is the process of working the dough with your hands to develop its gluten and give it the right texture.\\n\\nThe humor comes from:\\n\\n*   **Personification:** It gives the inanimate pizza dough a very human problem (emotional issues requiring therapy).\\n*   **The Pun:** It cleverly swaps \"needs\" for \"kneads\" because they sound almost identical. The idea is that the dough has been subjected to a lot of \"kneading\" (work, stress, perhaps even metaphorical rough handling), which sounds like it has a lot of \"unmet needs\" (problems that need addressing in therapy).\\n\\nSo, the pizza dough went to therapy because it metaphorically had too many problems (or had been \"worked over\" too much) that sounded like \"unmet needs,\" thanks to the pun on \"kneads.\"'}),), interrupts=()),\n",
       " StateSnapshot(values={'topic': 'pizza'}, next=('generate_joke',), config={'configurable': {'thread_id': '1', 'checkpoint_ns': '', 'checkpoint_id': '1f0875c5-50f1-625f-8000-b8cd1343a07b'}}, metadata={'source': 'loop', 'step': 0, 'parents': {}}, created_at='2025-09-01T17:51:48.227747+00:00', parent_config={'configurable': {'thread_id': '1', 'checkpoint_ns': '', 'checkpoint_id': '1f0875c5-50e6-6772-bfff-52cd3d1baa29'}}, tasks=(PregelTask(id='cebf5073-084b-cd5c-02f4-275518c9b2fe', name='generate_joke', path=('__pregel_pull', 'generate_joke'), error=None, interrupts=(), state=None, result={'joke': 'Why did the pizza dough go to therapy?\\n\\nBecause it had too many *unmet kneads*!'}),), interrupts=()),\n",
       " StateSnapshot(values={}, next=('__start__',), config={'configurable': {'thread_id': '1', 'checkpoint_ns': '', 'checkpoint_id': '1f0875c5-50e6-6772-bfff-52cd3d1baa29'}}, metadata={'source': 'input', 'step': -1, 'parents': {}}, created_at='2025-09-01T17:51:48.223371+00:00', parent_config=None, tasks=(PregelTask(id='f0761ce8-db38-5970-1c22-c7a65eb19d1b', name='__start__', path=('__pregel_pull', '__start__'), error=None, interrupts=(), state=None, result={'topic': 'pizza'}),), interrupts=())]"
      ]
     },
     "execution_count": 18,
     "metadata": {},
     "output_type": "execute_result"
    }
   ],
   "source": [
    "list(workflow.get_state_history(config1))"
   ]
  },
  {
   "cell_type": "code",
   "execution_count": null,
   "id": "f5f9e2bb",
   "metadata": {},
   "outputs": [],
   "source": []
  },
  {
   "cell_type": "code",
   "execution_count": null,
   "id": "ad86f1cb",
   "metadata": {},
   "outputs": [],
   "source": []
  }
 ],
 "metadata": {
  "kernelspec": {
   "display_name": "myenv",
   "language": "python",
   "name": "python3"
  },
  "language_info": {
   "codemirror_mode": {
    "name": "ipython",
    "version": 3
   },
   "file_extension": ".py",
   "mimetype": "text/x-python",
   "name": "python",
   "nbconvert_exporter": "python",
   "pygments_lexer": "ipython3",
   "version": "3.12.3"
  }
 },
 "nbformat": 4,
 "nbformat_minor": 5
}
