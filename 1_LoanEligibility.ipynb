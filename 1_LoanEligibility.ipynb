{
 "cells": [
  {
   "cell_type": "code",
   "execution_count": 1,
   "id": "21899d3c",
   "metadata": {},
   "outputs": [],
   "source": [
    "from langgraph.graph import StateGraph, START, END\n",
    "from typing import TypedDict"
   ]
  },
  {
   "cell_type": "code",
   "execution_count": 2,
   "id": "4491e323",
   "metadata": {},
   "outputs": [],
   "source": [
    "class LoanState(TypedDict):\n",
    "    income: float\n",
    "    age: int\n",
    "    credit_score: int\n",
    "    eligible: bool"
   ]
  },
  {
   "cell_type": "code",
   "execution_count": 4,
   "id": "292c08ec",
   "metadata": {},
   "outputs": [],
   "source": [
    "# Step 2: Define node functions\n",
    "def check_age(state: LoanState) -> LoanState:\n",
    "    state['eligible'] = state['age'] >= 21\n",
    "    return state\n",
    "\n",
    "def check_income(state: LoanState) -> LoanState:\n",
    "    if not state['eligible']:\n",
    "        return state  # Skip further checks if age fails\n",
    "    state['eligible'] = state['income'] >= 50000\n",
    "    return state\n",
    "\n",
    "def check_credit_score(state: LoanState) -> LoanState:\n",
    "    if not state['eligible']:\n",
    "        return state  # Skip further checks if income fails\n",
    "    state['eligible'] = state['credit_score'] >= 700\n",
    "    return state\n"
   ]
  },
  {
   "cell_type": "code",
   "execution_count": 5,
   "id": "43103e91",
   "metadata": {},
   "outputs": [
    {
     "data": {
      "text/plain": [
       "<langgraph.graph.state.StateGraph at 0x18c126a76b0>"
      ]
     },
     "execution_count": 5,
     "metadata": {},
     "output_type": "execute_result"
    }
   ],
   "source": [
    "# Step 3: Define your graph and add nodes\n",
    "graph = StateGraph(LoanState)\n",
    "graph.add_node('check_age', check_age)\n",
    "graph.add_node('check_income', check_income)\n",
    "graph.add_node('check_credit_score', check_credit_score)"
   ]
  },
  {
   "cell_type": "code",
   "execution_count": 6,
   "id": "4b5ffad8",
   "metadata": {},
   "outputs": [
    {
     "data": {
      "text/plain": [
       "<langgraph.graph.state.StateGraph at 0x18c126a76b0>"
      ]
     },
     "execution_count": 6,
     "metadata": {},
     "output_type": "execute_result"
    }
   ],
   "source": [
    "# Step 4: Add edges for workflow order\n",
    "graph.add_edge(START, 'check_age')\n",
    "graph.add_edge('check_age', 'check_income')\n",
    "graph.add_edge('check_income', 'check_credit_score')\n",
    "graph.add_edge('check_credit_score', END)\n"
   ]
  },
  {
   "cell_type": "code",
   "execution_count": 7,
   "id": "38f72d6a",
   "metadata": {},
   "outputs": [],
   "source": [
    "# Step 5: Compile the graph into a runnable workflow\n",
    "workflow = graph.compile()"
   ]
  },
  {
   "cell_type": "code",
   "execution_count": 10,
   "id": "d41f7cf4",
   "metadata": {},
   "outputs": [
    {
     "name": "stdout",
     "output_type": "stream",
     "text": [
      "{'income': 60000, 'age': 25, 'credit_score': 720, 'eligible': True}\n"
     ]
    }
   ],
   "source": [
    "initial_state = {'income': 60000, 'age': 25, 'credit_score': 720, 'eligible': True}\n",
    "result = workflow.invoke(initial_state)\n",
    "\n",
    "print(result)"
   ]
  },
  {
   "cell_type": "code",
   "execution_count": 11,
   "id": "70880238",
   "metadata": {},
   "outputs": [
    {
     "data": {
      "image/png": "[encoded data removed]",
      "text/plain": [
       "<IPython.core.display.Image object>"
      ]
     },
     "execution_count": 11,
     "metadata": {},
     "output_type": "execute_result"
    }
   ],
   "source": [
    "from IPython.display import Image\n",
    "Image(workflow.get_graph().draw_mermaid_png())"
   ]
  },
  {
   "cell_type": "code",
   "execution_count": null,
   "id": "616fc42e",
   "metadata": {},
   "outputs": [],
   "source": []
  }
 ],
 "metadata": {
  "kernelspec": {
   "display_name": "myenv",
   "language": "python",
   "name": "python3"
  },
  "language_info": {
   "codemirror_mode": {
    "name": "ipython",
    "version": 3
   },
   "file_extension": ".py",
   "mimetype": "text/x-python",
   "name": "python",
   "nbconvert_exporter": "python",
   "pygments_lexer": "ipython3",
   "version": "3.12.3"
  }
 },
 "nbformat": 4,
 "nbformat_minor": 5
}
