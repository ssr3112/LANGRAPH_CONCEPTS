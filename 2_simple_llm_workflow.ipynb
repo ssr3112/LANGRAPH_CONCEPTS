{
 "cells": [
  {
   "cell_type": "code",
   "execution_count": 17,
   "id": "329eeb46",
   "metadata": {},
   "outputs": [],
   "source": [
    "from langgraph.graph import StateGraph, START, END\n",
    "from langchain_google_genai import ChatGoogleGenerativeAI \n",
    "from typing import TypedDict\n",
    "from dotenv import load_dotenv\n"
   ]
  },
  {
   "cell_type": "code",
   "execution_count": 18,
   "id": "f1991f33",
   "metadata": {},
   "outputs": [
    {
     "data": {
      "text/plain": [
       "True"
      ]
     },
     "execution_count": 18,
     "metadata": {},
     "output_type": "execute_result"
    }
   ],
   "source": [
    "load_dotenv()"
   ]
  },
  {
   "cell_type": "code",
   "execution_count": 19,
   "id": "334f9a02",
   "metadata": {},
   "outputs": [],
   "source": [
    "# Initialize Gemini model from langchain-google-genai\n",
    "model = ChatGoogleGenerativeAI(model=\"models/gemini-2.5-flash\")\n",
    "\n"
   ]
  },
  {
   "cell_type": "code",
   "execution_count": 20,
   "id": "6fe65f8b",
   "metadata": {},
   "outputs": [],
   "source": [
    "# Define the state\n",
    "class LLMState(TypedDict):\n",
    "    question: str\n",
    "    answer: str"
   ]
  },
  {
   "cell_type": "code",
   "execution_count": 21,
   "id": "f437d98e",
   "metadata": {},
   "outputs": [],
   "source": [
    "# Define the node function \n",
    "def llm_qa(state: LLMState) -> LLMState:\n",
    "    question = state['question']\n",
    "    prompt = f'Answer the following question: {question}'\n",
    "    answer = model.invoke(prompt).content  \n",
    "    state['answer'] = answer\n",
    "    return state"
   ]
  },
  {
   "cell_type": "code",
   "execution_count": 22,
   "id": "328b5c5e",
   "metadata": {},
   "outputs": [
    {
     "data": {
      "text/plain": [
       "<langgraph.graph.state.StateGraph at 0x204f2ea92e0>"
      ]
     },
     "execution_count": 22,
     "metadata": {},
     "output_type": "execute_result"
    }
   ],
   "source": [
    "# Create the state graph\n",
    "graph = StateGraph(LLMState)\n",
    "\n",
    "# Add nodes and edges\n",
    "graph.add_node('llm_qa', llm_qa)\n",
    "graph.add_edge(START, 'llm_qa')\n",
    "graph.add_edge('llm_qa', END)"
   ]
  },
  {
   "cell_type": "code",
   "execution_count": 23,
   "id": "7c7274db",
   "metadata": {},
   "outputs": [],
   "source": [
    "# Compile the workflow\n",
    "workflow = graph.compile()\n"
   ]
  },
  {
   "cell_type": "code",
   "execution_count": 24,
   "id": "5b9cc49a",
   "metadata": {},
   "outputs": [],
   "source": [
    "# Initial input state\n",
    "initial_state = {'question': 'How far is the moon from the earth?'}"
   ]
  },
  {
   "cell_type": "code",
   "execution_count": null,
   "id": "3c3fdcca",
   "metadata": {},
   "outputs": [],
   "source": []
  },
  {
   "cell_type": "code",
   "execution_count": 25,
   "id": "2dfd2eb2",
   "metadata": {},
   "outputs": [],
   "source": [
    "# Run the workflow using invoke\n",
    "final_state = workflow.invoke(initial_state)"
   ]
  },
  {
   "cell_type": "code",
   "execution_count": 26,
   "id": "7f73e043",
   "metadata": {},
   "outputs": [
    {
     "name": "stdout",
     "output_type": "stream",
     "text": [
      "The distance between the Earth and the Moon is not constant, as the Moon orbits the Earth in an elliptical path.\n",
      "\n",
      "However, the **average distance** is approximately:\n",
      "*   **384,400 kilometers (km)**\n",
      "*   **238,900 miles**\n",
      "\n",
      "Here are the approximate ranges:\n",
      "*   **Closest (perigee):** Around 363,104 km (225,623 miles)\n",
      "*   **Farthest (apogee):** Around 405,696 km (252,088 miles)\n"
     ]
    }
   ],
   "source": [
    "\n",
    "print(final_state['answer'])"
   ]
  }
 ],
 "metadata": {
  "kernelspec": {
   "display_name": "myenv",
   "language": "python",
   "name": "python3"
  },
  "language_info": {
   "codemirror_mode": {
    "name": "ipython",
    "version": 3
   },
   "file_extension": ".py",
   "mimetype": "text/x-python",
   "name": "python",
   "nbconvert_exporter": "python",
   "pygments_lexer": "ipython3",
   "version": "3.12.3"
  }
 },
 "nbformat": 4,
 "nbformat_minor": 5
}
