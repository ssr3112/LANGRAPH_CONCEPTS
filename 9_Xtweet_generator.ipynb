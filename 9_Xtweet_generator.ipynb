{
 "cells": [
  {
   "cell_type": "markdown",
   "id": "91e69d07",
   "metadata": {},
   "source": [
    "# Tweet Improvement Workflow Summary\n",
    "\n",
    "| Step           | Description                                                  |\n",
    "|----------------|--------------------------------------------------------------|\n",
    "| Generate Tweet | AI creates a funny tweet on a given topic                    |\n",
    "| Evaluate Tweet | AI scores tweet 0-10 and provides feedback                   |\n",
    "| Route Decision | If score ≥ 7 or max iterations reached → approve; else optimize |\n",
    "| Optimize Tweet | AI rewrites tweet to improve humor and virality              |\n",
    "| Repeat Loop    | Runs evaluate → optimize until approved or max iterations    |\n",
    "| Final Output   | Returns approved tweet and history of all tweet versions     |\n",
    "\n",
    "---\n",
    "\n",
    "**Note:**  \n",
    "If initial tweet is good, workflow stops early with no further optimization. To see improvements over iterations, lower score threshold or increase max iterations.\n"
   ]
  },
  {
   "cell_type": "code",
   "execution_count": 15,
   "id": "78417b09",
   "metadata": {},
   "outputs": [
    {
     "data": {
      "text/plain": [
       "True"
      ]
     },
     "execution_count": 15,
     "metadata": {},
     "output_type": "execute_result"
    }
   ],
   "source": [
    "from langgraph.graph import StateGraph, START, END\n",
    "from langchain_google_genai import ChatGoogleGenerativeAI\n",
    "from typing import TypedDict, Annotated\n",
    "from pydantic import BaseModel, Field\n",
    "import operator\n",
    "from dotenv import load_dotenv\n",
    "\n",
    "load_dotenv()"
   ]
  },
  {
   "cell_type": "code",
   "execution_count": 16,
   "id": "f0519511",
   "metadata": {},
   "outputs": [],
   "source": [
    "# Initialize Gemini LLMs\n",
    "generator_llm = ChatGoogleGenerativeAI(model=\"models/gemini-2.5-flash\")\n",
    "evaluator_llm = ChatGoogleGenerativeAI(model=\"models/gemini-2.5-flash\")\n",
    "optimizer_llm = ChatGoogleGenerativeAI(model=\"models/gemini-2.5-flash\")\n"
   ]
  },
  {
   "cell_type": "code",
   "execution_count": 17,
   "id": "aaa8e5dc",
   "metadata": {},
   "outputs": [],
   "source": [
    "class TweetEvaluation(BaseModel):\n",
    "    score: int = Field(..., ge=0, le=10, description=\"Score out of 10\")\n",
    "    feedback: str = Field(..., description=\"Detailed feedback\")\n",
    "\n",
    "structured_evaluator_llm = evaluator_llm.with_structured_output(TweetEvaluation)\n"
   ]
  },
  {
   "cell_type": "code",
   "execution_count": 18,
   "id": "87d9b0ad",
   "metadata": {},
   "outputs": [],
   "source": [
    "class TweetState(TypedDict):\n",
    "    topic: str\n",
    "    tweet: str\n",
    "    score: int\n",
    "    feedback: str\n",
    "    iteration: int\n",
    "    max_iteration: int\n",
    "    tweet_history: Annotated[list[str], operator.add]\n",
    "    feedback_history: Annotated[list[str], operator.add]\n",
    "    response: str "
   ]
  },
  {
   "cell_type": "code",
   "execution_count": 19,
   "id": "542fd9f1",
   "metadata": {},
   "outputs": [],
   "source": [
    "def generate_tweet(state: TweetState):\n",
    "    prompt = f\"\"\"You are a funny and clever Twitter influencer.\n",
    "\n",
    "Write a short, original, hilarious tweet on the topic: \"{state['topic']}\".\n",
    "- Max 280 characters.\n",
    "- Use observational humor, irony, sarcasm, meme logic.\n",
    "- Avoid question-answer format.\n",
    "\n",
    "Output just the tweet.\"\"\"\n",
    "    response = generator_llm.invoke(prompt).content\n",
    "    return {'tweet': response, 'tweet_history': [response]}\n",
    "\n",
    "def evaluate_tweet(state: TweetState):\n",
    "    prompt = f\"\"\"Rate this tweet on scale 0-10 for humor, originality, and virality:\n",
    "\n",
    "Tweet: \"{state['tweet']}\"\n",
    "\n",
    "Respond ONLY with JSON with keys: score (int), feedback (string).\"\"\"\n",
    "    output = structured_evaluator_llm.invoke(prompt)\n",
    "    return {'score': output.score, 'feedback': output.feedback, 'feedback_history': [output.feedback]}\n",
    "\n",
    "def optimize_tweet(state: TweetState):\n",
    "    prompt = f\"\"\"Improve this tweet to be funnier and more viral based on this feedback:\n",
    "\n",
    "\"{state['feedback']}\"\n",
    "\n",
    "Original tweet:\n",
    "{state['tweet']}\n",
    "\n",
    "Output only the improved tweet, max 280 characters.\"\"\"\n",
    "    response = optimizer_llm.invoke(prompt).content\n",
    "    return {'tweet': response, 'iteration': state['iteration'] + 1, 'tweet_history': [response]}\n",
    "\n",
    "def route_evaluation(state: TweetState):\n",
    "    if state['score'] >= 7 or state['iteration'] >= state['max_iteration']:\n",
    "        return 'approved'\n",
    "    else:\n",
    "        return 'needs_improvement'\n",
    "\n",
    "def approved(state: TweetState):\n",
    "    return {'response': f\"Final approved tweet after {state['iteration']} iterations:\\n{state['tweet']}\"}"
   ]
  },
  {
   "cell_type": "code",
   "execution_count": 20,
   "id": "240f054f",
   "metadata": {},
   "outputs": [],
   "source": [
    "graph = StateGraph(TweetState)\n",
    "\n",
    "graph.add_node('generate', generate_tweet)\n",
    "graph.add_node('evaluate', evaluate_tweet)\n",
    "graph.add_node('optimize', optimize_tweet)\n",
    "graph.add_node('approved', approved)\n",
    "\n",
    "graph.add_edge(START, 'generate')\n",
    "graph.add_edge('generate', 'evaluate')\n",
    "graph.add_conditional_edges('evaluate', route_evaluation, {'approved': 'approved', 'needs_improvement': 'optimize'})\n",
    "graph.add_edge('optimize', 'evaluate')\n",
    "graph.add_edge('approved', END)\n",
    "\n",
    "workflow = graph.compile()"
   ]
  },
  {
   "cell_type": "code",
   "execution_count": 23,
   "id": "45254f8b",
   "metadata": {},
   "outputs": [
    {
     "name": "stdout",
     "output_type": "stream",
     "text": [
      "Final approved tweet after 2 iterations:\n",
      "We were promised AI that could cure diseases and end war. Instead, my smart fridge just asked if I wanted to \"optimize my snack experience.\" Priorities, people. Priorities.\n"
     ]
    }
   ],
   "source": [
    "initial_state = {\n",
    "    'topic': 'Artificial Intelligence in Daily Life',\n",
    "    'tweet': '',\n",
    "    'score': 0,\n",
    "    'feedback': '',\n",
    "    'iteration': 2,\n",
    "    'max_iteration': 5,\n",
    "    'tweet_history': [],\n",
    "    'feedback_history': [],\n",
    "    'response': ''  # Initialize response key to avoid missing keys\n",
    "}\n",
    "\n",
    "result = workflow.invoke(initial_state)\n",
    "\n",
    "print(result['response'])"
   ]
  },
  {
   "cell_type": "code",
   "execution_count": 22,
   "id": "4cb6b85d",
   "metadata": {},
   "outputs": [
    {
     "name": "stdout",
     "output_type": "stream",
     "text": [
      "\n",
      "Tweet History:\n",
      "AI can now generate hyper-realistic images and compose symphonies, yet my smart fridge still thinks I'm out of milk when I'm staring directly at it. It's giving \"genius in theory, chaos in practice.\" #AIDailyLife\n"
     ]
    }
   ],
   "source": [
    "#  print all versions of the tweet\n",
    "print(\"\\nTweet History:\")\n",
    "for t in result['tweet_history']:\n",
    "    print(t)"
   ]
  },
  {
   "cell_type": "code",
   "execution_count": null,
   "id": "80006331",
   "metadata": {},
   "outputs": [],
   "source": []
  }
 ],
 "metadata": {
  "kernelspec": {
   "display_name": "myenv",
   "language": "python",
   "name": "python3"
  },
  "language_info": {
   "codemirror_mode": {
    "name": "ipython",
    "version": 3
   },
   "file_extension": ".py",
   "mimetype": "text/x-python",
   "name": "python",
   "nbconvert_exporter": "python",
   "pygments_lexer": "ipython3",
   "version": "3.12.3"
  }
 },
 "nbformat": 4,
 "nbformat_minor": 5
}
